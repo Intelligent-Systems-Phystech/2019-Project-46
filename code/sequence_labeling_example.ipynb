{
 "cells": [
  {
   "cell_type": "markdown",
   "metadata": {
    "slideshow": {
     "slide_type": "notes"
    }
   },
   "source": [
    "# BiLSTM sequence labeling in Tensorflow\n",
    "\n",
    "This notebook shows how to implement a simple bidirectional LSTM sequence labeling model with dropout in Tensorflow."
   ]
  },
  {
   "cell_type": "markdown",
   "metadata": {
    "slideshow": {
     "slide_type": "slide"
    }
   },
   "source": [
    "# Prerequisites"
   ]
  },
  {
   "cell_type": "code",
   "execution_count": 9,
   "metadata": {
    "slideshow": {
     "slide_type": "fragment"
    }
   },
   "outputs": [],
   "source": [
    "import tensorflow as tf\n",
    "import numpy as np"
   ]
  },
  {
   "cell_type": "code",
   "execution_count": 10,
   "metadata": {
    "slideshow": {
     "slide_type": "skip"
    }
   },
   "outputs": [],
   "source": [
    "import os\n",
    "def write_graph(name):\n",
    "    logdir = os.path.join('log', name)\n",
    "    file_writer = tf.summary.FileWriter(logdir)\n",
    "    with tf.Session() as sess:\n",
    "        file_writer.add_graph(sess.graph)"
   ]
  },
  {
   "cell_type": "markdown",
   "metadata": {
    "slideshow": {
     "slide_type": "slide"
    }
   },
   "source": [
    "# Hyperparams\n",
    "\n",
    "Here we define some random embeddings and hyper parameters just to get an example to work with."
   ]
  },
  {
   "cell_type": "code",
   "execution_count": 11,
   "metadata": {
    "slideshow": {
     "slide_type": "fragment"
    }
   },
   "outputs": [],
   "source": [
    "n_classes = 10\n",
    "num_layers = 2\n",
    "state_size = 100\n",
    "keep_prob = 0.5\n",
    "vocab_size = 1000\n",
    "embedding_size = 50\n",
    "\n",
    "embedding_vectors = np.random.rand(vocab_size, embedding_size).astype(np.float32)"
   ]
  },
  {
   "cell_type": "markdown",
   "metadata": {
    "slideshow": {
     "slide_type": "fragment"
    }
   },
   "source": [
    "`embedding_vectors`: [vocab_size x embedding_size]\n"
   ]
  },
  {
   "cell_type": "markdown",
   "metadata": {
    "slideshow": {
     "slide_type": "slide"
    }
   },
   "source": [
    "# Input placeholders and embeddings"
   ]
  },
  {
   "cell_type": "code",
   "execution_count": 13,
   "metadata": {
    "slideshow": {
     "slide_type": "fragment"
    }
   },
   "outputs": [],
   "source": [
    "x = tf.placeholder(tf.int32, [None, None], name='x')\n",
    "seqlen = tf.placeholder(tf.int32, [None], name='seqlen')\n",
    "\n",
    "word_embeddings = tf.Variable(\n",
    "    initial_value=embedding_vectors,\n",
    "    trainable=False,\n",
    "    name=\"word_embeddings\")\n",
    "rnn_inputs = tf.nn.embedding_lookup(word_embeddings, x)\n",
    "\n",
    "write_graph(\"step_1\")"
   ]
  },
  {
   "cell_type": "markdown",
   "metadata": {
    "slideshow": {
     "slide_type": "fragment"
    }
   },
   "source": [
    "`rnn_inputs`: [batch_size x max_length x embedding_size]\n"
   ]
  },
  {
   "cell_type": "markdown",
   "metadata": {
    "slideshow": {
     "slide_type": "slide"
    }
   },
   "source": [
    "# BLSTM model\n"
   ]
  },
  {
   "cell_type": "markdown",
   "metadata": {
    "slideshow": {
     "slide_type": "subslide"
    }
   },
   "source": [
    "## Defining the LSTM cell"
   ]
  },
  {
   "cell_type": "code",
   "execution_count": 14,
   "metadata": {
    "slideshow": {
     "slide_type": "fragment"
    }
   },
   "outputs": [],
   "source": [
    "def lstm_cell_with_dropout(state_size, keep_prob):\n",
    "    cell = tf.contrib.rnn.BasicLSTMCell(num_units=state_size)\n",
    "    cell = tf.contrib.rnn.DropoutWrapper(\n",
    "        cell=cell,\n",
    "        output_keep_prob=keep_prob,\n",
    "        state_keep_prob=keep_prob,\n",
    "        variational_recurrent=True,\n",
    "        dtype=tf.float32)\n",
    "    return cell"
   ]
  },
  {
   "cell_type": "markdown",
   "metadata": {
    "slideshow": {
     "slide_type": "subslide"
    }
   },
   "source": [
    "## Defining a BLSTM layer"
   ]
  },
  {
   "cell_type": "code",
   "execution_count": 15,
   "metadata": {
    "slideshow": {
     "slide_type": "fragment"
    }
   },
   "outputs": [],
   "source": [
    "def blstm_layer_with_dropout(inputs, seqlen, state_size, keep_prob, scope):\n",
    "    cell = lstm_cell_with_dropout(state_size, keep_prob)\n",
    "    (output_fw, output_bw), _ = tf.nn.bidirectional_dynamic_rnn(\n",
    "        cell_fw=cell,\n",
    "        cell_bw=cell,\n",
    "        inputs=inputs,\n",
    "        sequence_length=seqlen,\n",
    "        dtype=tf.float32,\n",
    "        scope=scope)\n",
    "    return tf.concat([output_fw, output_bw], axis=-1)"
   ]
  },
  {
   "cell_type": "markdown",
   "metadata": {
    "slideshow": {
     "slide_type": "subslide"
    }
   },
   "source": [
    "## Adding layers to the graph"
   ]
  },
  {
   "cell_type": "code",
   "execution_count": 16,
   "metadata": {
    "slideshow": {
     "slide_type": "fragment"
    }
   },
   "outputs": [
    {
     "name": "stdout",
     "output_type": "stream",
     "text": [
      "\n",
      "WARNING: The TensorFlow contrib module will not be included in TensorFlow 2.0.\n",
      "For more information, please see:\n",
      "  * https://github.com/tensorflow/community/blob/master/rfcs/20180907-contrib-sunset.md\n",
      "  * https://github.com/tensorflow/addons\n",
      "If you depend on functionality not listed there, please file an issue.\n",
      "\n",
      "WARNING:tensorflow:From <ipython-input-14-d3796faa64b4>:2: BasicLSTMCell.__init__ (from tensorflow.python.ops.rnn_cell_impl) is deprecated and will be removed in a future version.\n",
      "Instructions for updating:\n",
      "This class is equivalent as tf.keras.layers.LSTMCell, and will be replaced by that in Tensorflow 2.0.\n",
      "WARNING:tensorflow:From <ipython-input-15-48eb6b8fd9dc>:9: bidirectional_dynamic_rnn (from tensorflow.python.ops.rnn) is deprecated and will be removed in a future version.\n",
      "Instructions for updating:\n",
      "Please use `keras.layers.Bidirectional(keras.layers.RNN(cell))`, which is equivalent to this API\n",
      "WARNING:tensorflow:From /Users/Pablo/anaconda3/lib/python3.7/site-packages/tensorflow/python/ops/rnn.py:443: dynamic_rnn (from tensorflow.python.ops.rnn) is deprecated and will be removed in a future version.\n",
      "Instructions for updating:\n",
      "Please use `keras.layers.RNN(cell)`, which is equivalent to this API\n",
      "WARNING:tensorflow:From /Users/Pablo/anaconda3/lib/python3.7/site-packages/tensorflow/python/ops/rnn.py:626: to_int32 (from tensorflow.python.ops.math_ops) is deprecated and will be removed in a future version.\n",
      "Instructions for updating:\n",
      "Use tf.cast instead.\n",
      "WARNING:tensorflow:From /Users/Pablo/anaconda3/lib/python3.7/site-packages/tensorflow/python/ops/rnn_cell_impl.py:1242: div (from tensorflow.python.ops.math_ops) is deprecated and will be removed in a future version.\n",
      "Instructions for updating:\n",
      "Deprecated in favor of operator or tf.math.divide.\n"
     ]
    }
   ],
   "source": [
    "for i in range(num_layers):\n",
    "    with tf.name_scope(\"BLSTM-{}\".format(i)) as scope:\n",
    "        rnn_inputs = blstm_layer_with_dropout(\n",
    "            rnn_inputs, seqlen, state_size, keep_prob, scope)\n",
    "\n",
    "write_graph(\"step_2\")"
   ]
  },
  {
   "cell_type": "markdown",
   "metadata": {
    "slideshow": {
     "slide_type": "slide"
    }
   },
   "source": [
    "# Making predictions"
   ]
  },
  {
   "cell_type": "code",
   "execution_count": 17,
   "metadata": {
    "slideshow": {
     "slide_type": "fragment"
    }
   },
   "outputs": [
    {
     "name": "stdout",
     "output_type": "stream",
     "text": [
      "WARNING:tensorflow:From <ipython-input-17-bb7a15b177a8>:5: dense (from tensorflow.python.layers.core) is deprecated and will be removed in a future version.\n",
      "Instructions for updating:\n",
      "Use keras.layers.dense instead.\n"
     ]
    }
   ],
   "source": [
    "max_length = tf.shape(x)[1]\n",
    "\n",
    "with tf.name_scope('logits'):\n",
    "    logit_inputs = tf.reshape(rnn_inputs, [-1, 2 * state_size])\n",
    "    logits = tf.layers.dense(logit_inputs, n_classes)\n",
    "    logits = tf.reshape(logits, [-1, max_length, n_classes])\n",
    "predictions = tf.argmax(logits, axis=-1, name=\"predictions\")\n",
    "\n",
    "write_graph(\"step_3\")"
   ]
  },
  {
   "cell_type": "markdown",
   "metadata": {
    "slideshow": {
     "slide_type": "slide"
    }
   },
   "source": [
    "# Defining a loss function and optimizer"
   ]
  },
  {
   "cell_type": "markdown",
   "metadata": {
    "slideshow": {
     "slide_type": "notes"
    }
   },
   "source": [
    "In order to actually train the network we need a loss function to optimise and an optimization method. You can either carefully choose the optimizer and learning rate, or you can use Adam with the Karpathy constant (3e-4) for learning rate like we do here. (JK, this is important to tune.)"
   ]
  },
  {
   "cell_type": "code",
   "execution_count": 18,
   "metadata": {
    "slideshow": {
     "slide_type": "fragment"
    }
   },
   "outputs": [
    {
     "name": "stderr",
     "output_type": "stream",
     "text": [
      "/Users/Pablo/anaconda3/lib/python3.7/site-packages/tensorflow/python/ops/gradients_impl.py:110: UserWarning: Converting sparse IndexedSlices to a dense Tensor of unknown shape. This may consume a large amount of memory.\n",
      "  \"Converting sparse IndexedSlices to a dense Tensor of unknown shape. \"\n"
     ]
    }
   ],
   "source": [
    "labels = tf.placeholder(tf.int32, [None, None], name='labels')\n",
    "\n",
    "with tf.name_scope('loss'):\n",
    "    loss = tf.nn.sparse_softmax_cross_entropy_with_logits(\n",
    "        labels=labels, \n",
    "        logits=logits, \n",
    "        name=\"cross_entropy\")\n",
    "    seqlen_mask = tf.sequence_mask(\n",
    "        lengths=seqlen, \n",
    "        maxlen=max_length, \n",
    "        name='sequence_mask')\n",
    "    loss = tf.boolean_mask(loss, mask=seqlen_mask)\n",
    "    loss = tf.reduce_mean(loss, name=\"mean_loss\")\n",
    "\n",
    "with tf.name_scope('train_step'):\n",
    "    train_step = tf.train.AdamOptimizer(learning_rate=3e-4).minimize(loss)\n",
    "\n",
    "write_graph(\"step_4\")"
   ]
  },
  {
   "cell_type": "markdown",
   "metadata": {
    "slideshow": {
     "slide_type": "slide"
    }
   },
   "source": [
    "# Monitoring accuracy"
   ]
  },
  {
   "cell_type": "code",
   "execution_count": 19,
   "metadata": {
    "slideshow": {
     "slide_type": "fragment"
    }
   },
   "outputs": [],
   "source": [
    "train_summ = tf.summary.scalar(\"cross_entropy\", loss)"
   ]
  },
  {
   "cell_type": "markdown",
   "metadata": {
    "slideshow": {
     "slide_type": "slide"
    }
   },
   "source": [
    "# Training loop\n",
    "\n",
    "Here we make some fake data to demo a training loop."
   ]
  },
  {
   "cell_type": "code",
   "execution_count": 20,
   "metadata": {
    "slideshow": {
     "slide_type": "fragment"
    }
   },
   "outputs": [],
   "source": [
    "n_examples = 1000\n",
    "min_sequence_length = 5\n",
    "max_sequence_length = 40\n",
    "batch_size = 100\n",
    "\n",
    "sequence_lengths = np.random.randint(min_sequence_length, max_sequence_length, size=n_examples)\n",
    "X = np.zeros([n_examples,max_sequence_length], dtype=np.int32)\n",
    "train_labels = np.zeros([n_examples,max_sequence_length], dtype=np.int32)\n",
    "\n",
    "for i,length in enumerate(sequence_lengths):\n",
    "    X[i,0:length] = np.random.randint(vocab_size, size=length)\n",
    "    train_labels[i,0:length] = np.random.randint(n_classes, size=length)"
   ]
  },
  {
   "cell_type": "markdown",
   "metadata": {
    "slideshow": {
     "slide_type": "subslide"
    }
   },
   "source": [
    "There is no connection between input and labels, since they are both random, but the network is happy to just memorize the data."
   ]
  },
  {
   "cell_type": "code",
   "execution_count": 22,
   "metadata": {
    "slideshow": {
     "slide_type": "fragment"
    }
   },
   "outputs": [],
   "source": [
    "n_epochs = 2\n",
    "\n",
    "def data_gen():\n",
    "    i = 0\n",
    "    idx = 0\n",
    "    while idx < len(sequence_lengths):\n",
    "        slc = slice(idx, idx+batch_size)\n",
    "        yield (X[slc], sequence_lengths[slc], train_labels[slc])\n",
    "        i += 1\n",
    "        idx = i * batch_size\n",
    "\n",
    "with tf.Session() as sess:\n",
    "    sess.run(tf.global_variables_initializer())\n",
    "    train_writer = tf.summary.FileWriter(os.path.join('log', 'train'), sess.graph)\n",
    "    step = 0\n",
    "    for i in range(n_epochs):\n",
    "        for (X_batch, lengths, labels_batch) in data_gen():\n",
    "            feed_dict = {x: X_batch, seqlen: lengths, labels: labels_batch}\n",
    "            _, summ = sess.run([train_step, train_summ], feed_dict=feed_dict)\n",
    "            train_writer.add_summary(summ, step)\n",
    "            step += 1\n",
    "    train_writer.close() "
   ]
  },
  {
   "cell_type": "code",
   "execution_count": 28,
   "metadata": {},
   "outputs": [],
   "source": [
    "predictor = tf.contrib.predictor.from_saved_model(\"\")"
   ]
  },
  {
   "cell_type": "code",
   "execution_count": null,
   "metadata": {},
   "outputs": [],
   "source": [
    "#input_dict = {\n",
    "#        'x': input_data,\n",
    "#        'seqlen': [len(input_data)]\n",
    "#    }\n",
    "input = \n",
    "output = predictor(input_dict)"
   ]
  }
 ],
 "metadata": {
  "celltoolbar": "Raw Cell Format",
  "kernelspec": {
   "display_name": "Python 3",
   "language": "python",
   "name": "python3"
  },
  "language_info": {
   "codemirror_mode": {
    "name": "ipython",
    "version": 3
   },
   "file_extension": ".py",
   "mimetype": "text/x-python",
   "name": "python",
   "nbconvert_exporter": "python",
   "pygments_lexer": "ipython3",
   "version": "3.7.1"
  }
 },
 "nbformat": 4,
 "nbformat_minor": 2
}
